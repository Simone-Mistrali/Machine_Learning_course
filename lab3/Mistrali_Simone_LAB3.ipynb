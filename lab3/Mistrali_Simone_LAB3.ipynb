{
 "cells": [
  {
   "cell_type": "markdown",
   "metadata": {},
   "source": [
    "# Clothes Classification with Neural Networks\n",
    "\n",
    "In this notebook we are going to use the Neural Networks for image classification. We are going to use the same dataset of Lab 2 on SVM: Fashion MNIST (https://pravarmahajan.github.io/fashion/), a dataset of small images of clothes and accessories.\n",
    "\n",
    "The dataset labels are the following:\n",
    "\n",
    "| Label | Description |\n",
    "| --- | --- |\n",
    "| 0 | T-shirt/top |\n",
    "| 1 | Trouser |\n",
    "| 2 | Pullover |\n",
    "| 3 | Dress |\n",
    "| 4 | Coat |\n",
    "| 5 | Sandal |\n",
    "| 6 | Shirt |\n",
    "| 7 | Sneaker |\n",
    "| 8 | Bag |\n",
    "| 9 | Ankle boot |"
   ]
  },
  {
   "cell_type": "code",
   "execution_count": 1,
   "metadata": {
    "ExecuteTime": {
     "end_time": "2020-12-27T17:02:51.830784Z",
     "start_time": "2020-12-27T17:02:51.301614Z"
    }
   },
   "outputs": [
    {
     "name": "stdout",
     "output_type": "stream",
     "text": [
      "scikit-learn version:  0.23.2\n"
     ]
    }
   ],
   "source": [
    "#load the required packages and check Scikit-learn version\n",
    "\n",
    "%matplotlib inline  \n",
    "\n",
    "import numpy as np\n",
    "import scipy as sp\n",
    "import matplotlib.pyplot as plt\n",
    "import sklearn\n",
    "print ('scikit-learn version: ', sklearn.__version__)\n",
    "from sklearn.neural_network import MLPClassifier\n",
    "from sklearn.model_selection import GridSearchCV\n",
    "from sklearn.svm import SVC"
   ]
  },
  {
   "cell_type": "code",
   "execution_count": 2,
   "metadata": {
    "ExecuteTime": {
     "end_time": "2020-12-27T17:02:51.836759Z",
     "start_time": "2020-12-27T17:02:51.832981Z"
    }
   },
   "outputs": [],
   "source": [
    "# helper function to load Fashion MNIST dataset from disk\n",
    "def load_mnist(path, kind='train'):\n",
    "    import os\n",
    "    import gzip\n",
    "    import numpy as np\n",
    "    labels_path = os.path.join(path, '%s-labels-idx1-ubyte.gz' % kind)\n",
    "    images_path = os.path.join(path, '%s-images-idx3-ubyte.gz' % kind)\n",
    "    with gzip.open(labels_path, 'rb') as lbpath:\n",
    "        labels = np.frombuffer(lbpath.read(), dtype=np.uint8,offset=8)\n",
    "    with gzip.open(images_path, 'rb') as imgpath:\n",
    "        images = np.frombuffer(imgpath.read(), dtype=np.uint8,offset=16).reshape(len(labels), 784)\n",
    "    return images, labels"
   ]
  },
  {
   "cell_type": "markdown",
   "metadata": {},
   "source": [
    "# TODO \n",
    "Place a seed for the random generatoryour (you can use your \"numero di matricola\"). Try to change the seed to see the impact of the randomization."
   ]
  },
  {
   "cell_type": "code",
   "execution_count": 3,
   "metadata": {
    "ExecuteTime": {
     "end_time": "2020-12-27T17:02:51.844535Z",
     "start_time": "2020-12-27T17:02:51.838210Z"
    }
   },
   "outputs": [],
   "source": [
    "ID = 2021119\n",
    "np.random.seed(ID)"
   ]
  },
  {
   "cell_type": "code",
   "execution_count": 4,
   "metadata": {
    "ExecuteTime": {
     "end_time": "2020-12-27T17:02:52.285745Z",
     "start_time": "2020-12-27T17:02:51.847134Z"
    }
   },
   "outputs": [
    {
     "name": "stdout",
     "output_type": "stream",
     "text": [
      "Number of samples in the MNIST dataset: 60000\n"
     ]
    }
   ],
   "source": [
    "#load the MNIST dataset and let's normalize the features so that each value is in [0,1]\n",
    "X, y = load_mnist(\"data\")\n",
    "print(\"Number of samples in the MNIST dataset:\", X.shape[0])\n",
    "# rescale the data\n",
    "X = X / 255.0"
   ]
  },
  {
   "cell_type": "markdown",
   "metadata": {},
   "source": [
    "Now split into training and test. We start with a small training set of 600 samples to reduce computation time while 4000 samples will be used for testing. Make sure that each label is present at least 10 times in train and test set frequencies."
   ]
  },
  {
   "cell_type": "code",
   "execution_count": 5,
   "metadata": {
    "ExecuteTime": {
     "end_time": "2020-12-27T17:02:52.441030Z",
     "start_time": "2020-12-27T17:02:52.287035Z"
    }
   },
   "outputs": [
    {
     "name": "stdout",
     "output_type": "stream",
     "text": [
      "Labels in training dataset:  [0 1 2 3 4 5 6 7 8 9]\n",
      "Frequencies in training dataset:  [61 58 56 55 58 46 63 76 60 67]\n",
      "Labels in test set:  [0 1 2 3 4 5 6 7 8 9]\n",
      "Frequencies in test set:  [61 58 56 55 58 46 63 76 60 67]\n"
     ]
    }
   ],
   "source": [
    "#random permute the data and split into training and test taking the first 600\n",
    "#data samples as training and 4000 as test set\n",
    "permutation = np.random.permutation(X.shape[0])\n",
    "\n",
    "X = X[permutation]\n",
    "y = y[permutation]\n",
    "\n",
    "m_training = 600\n",
    "m_test = 4000\n",
    "\n",
    "X_train, X_test = X[:m_training], X[m_training:m_training+m_test]\n",
    "y_train, y_test = y[:m_training], y[m_training:m_training+m_test]\n",
    "\n",
    "labels, freqs = np.unique(y_train, return_counts=True)\n",
    "print(\"Labels in training dataset: \", labels)\n",
    "print(\"Frequencies in training dataset: \", freqs)\n",
    "\n",
    "labelsT, freqsT = np.unique(y_test, return_counts=True)\n",
    "print(\"Labels in test set: \", labels)\n",
    "print(\"Frequencies in test set: \", freqs)\n"
   ]
  },
  {
   "cell_type": "code",
   "execution_count": 6,
   "metadata": {
    "ExecuteTime": {
     "end_time": "2020-12-27T17:02:52.445575Z",
     "start_time": "2020-12-27T17:02:52.442629Z"
    }
   },
   "outputs": [],
   "source": [
    "#function for plotting a image and printing the corresponding label\n",
    "def plot_input(X_matrix, labels, index):\n",
    "    print(\"INPUT:\")\n",
    "    plt.imshow(\n",
    "        X_matrix[index].reshape(28,28),\n",
    "        cmap          = plt.cm.gray_r,\n",
    "        interpolation = \"nearest\"\n",
    "    )\n",
    "    plt.show()\n",
    "    print(\"LABEL: %i\"%labels[index])\n",
    "    return"
   ]
  },
  {
   "cell_type": "code",
   "execution_count": 7,
   "metadata": {
    "ExecuteTime": {
     "end_time": "2020-12-27T17:02:52.782264Z",
     "start_time": "2020-12-27T17:02:52.447350Z"
    }
   },
   "outputs": [
    {
     "name": "stdout",
     "output_type": "stream",
     "text": [
      "INPUT:\n"
     ]
    },
    {
     "data": {
      "image/png": "[encoded data removed]",
      "text/plain": [
       "<Figure size 432x288 with 1 Axes>"
      ]
     },
     "metadata": {
      "needs_background": "light"
     },
     "output_type": "display_data"
    },
    {
     "name": "stdout",
     "output_type": "stream",
     "text": [
      "LABEL: 4\n",
      "INPUT:\n"
     ]
    },
    {
     "data": {
      "image/png": "[encoded data removed]",
      "text/plain": [
       "<Figure size 432x288 with 1 Axes>"
      ]
     },
     "metadata": {
      "needs_background": "light"
     },
     "output_type": "display_data"
    },
    {
     "name": "stdout",
     "output_type": "stream",
     "text": [
      "LABEL: 4\n",
      "INPUT:\n"
     ]
    },
    {
     "data": {
      "image/png": "[encoded data removed]",
      "text/plain": [
       "<Figure size 432x288 with 1 Axes>"
      ]
     },
     "metadata": {
      "needs_background": "light"
     },
     "output_type": "display_data"
    },
    {
     "name": "stdout",
     "output_type": "stream",
     "text": [
      "LABEL: 9\n"
     ]
    }
   ],
   "source": [
    "#let's try the plotting function\n",
    "plot_input(X_train,y_train,10)\n",
    "plot_input(X_test,y_test,100)\n",
    "plot_input(X_test,y_test,1000)"
   ]
  },
  {
   "cell_type": "markdown",
   "metadata": {},
   "source": [
    "### TO DO 1\n",
    "\n",
    "Now use a feed-forward Neural Network for prediction. Use the multi-layer perceptron classifier, with the following parameters: max_iter=250, alpha=1e-4, solver='sgd', tol=1e-4, learning_rate_init=.1, random_state=ID (this last parameter ensures the run is the same even if you run it more than once). The alpha parameter is the regularization term.\n",
    "\n",
    "Then, using the default activation function, pick four or five architectures to consider, with different numbers of hidden layers and different sizes. It is not necessary to create huge neural networks, you can limit to 3 layers and, for each layer, its maximum size can be of 50. Evaluate the architectures you chose using GridSearchCV with cv=5.\n",
    "\n",
    "You can reduce the number of iterations if the running time is too long on your computer.\n"
   ]
  },
  {
   "cell_type": "code",
   "execution_count": 8,
   "metadata": {
    "ExecuteTime": {
     "end_time": "2020-12-27T17:02:52.925736Z",
     "start_time": "2020-12-27T17:02:52.784876Z"
    }
   },
   "outputs": [],
   "source": [
    "# I've import pandas for a better visualisation of the best_params_\n",
    "import pandas as pd\n"
   ]
  },
  {
   "cell_type": "code",
   "execution_count": 9,
   "metadata": {
    "ExecuteTime": {
     "end_time": "2020-12-27T17:03:12.126823Z",
     "start_time": "2020-12-27T17:02:52.927170Z"
    }
   },
   "outputs": [
    {
     "name": "stdout",
     "output_type": "stream",
     "text": [
      "RESULTS FOR NN\n",
      "\n",
      "Best parameters set found:\n",
      "{'hidden_layer_sizes': (20,)}\n",
      "Score with best parameters:\n",
      "0.7866666666666666\n",
      "\n",
      " All scores on the grid:\n"
     ]
    },
    {
     "data": {
      "text/html": [
       "<div>\n",
       "<style scoped>\n",
       "    .dataframe tbody tr th:only-of-type {\n",
       "        vertical-align: middle;\n",
       "    }\n",
       "\n",
       "    .dataframe tbody tr th {\n",
       "        vertical-align: top;\n",
       "    }\n",
       "\n",
       "    .dataframe thead th {\n",
       "        text-align: right;\n",
       "    }\n",
       "</style>\n",
       "<table border=\"1\" class=\"dataframe\">\n",
       "  <thead>\n",
       "    <tr style=\"text-align: right;\">\n",
       "      <th></th>\n",
       "      <th>param_hidden_layer_sizes</th>\n",
       "      <th>mean_test_score</th>\n",
       "      <th>mean_fit_time</th>\n",
       "    </tr>\n",
       "  </thead>\n",
       "  <tbody>\n",
       "    <tr>\n",
       "      <th>0</th>\n",
       "      <td>(10,)</td>\n",
       "      <td>0.650000</td>\n",
       "      <td>0.378539</td>\n",
       "    </tr>\n",
       "    <tr>\n",
       "      <th>1</th>\n",
       "      <td>(20,)</td>\n",
       "      <td>0.786667</td>\n",
       "      <td>0.903050</td>\n",
       "    </tr>\n",
       "    <tr>\n",
       "      <th>2</th>\n",
       "      <td>(30,)</td>\n",
       "      <td>0.773333</td>\n",
       "      <td>1.114512</td>\n",
       "    </tr>\n",
       "    <tr>\n",
       "      <th>3</th>\n",
       "      <td>(20, 20)</td>\n",
       "      <td>0.701667</td>\n",
       "      <td>0.461535</td>\n",
       "    </tr>\n",
       "    <tr>\n",
       "      <th>4</th>\n",
       "      <td>(30, 30, 20)</td>\n",
       "      <td>0.561667</td>\n",
       "      <td>0.617409</td>\n",
       "    </tr>\n",
       "  </tbody>\n",
       "</table>\n",
       "</div>"
      ],
      "text/plain": [
       "  param_hidden_layer_sizes  mean_test_score  mean_fit_time\n",
       "0                    (10,)         0.650000       0.378539\n",
       "1                    (20,)         0.786667       0.903050\n",
       "2                    (30,)         0.773333       1.114512\n",
       "3                 (20, 20)         0.701667       0.461535\n",
       "4             (30, 30, 20)         0.561667       0.617409"
      ]
     },
     "execution_count": 9,
     "metadata": {},
     "output_type": "execute_result"
    }
   ],
   "source": [
    "# these are sample values but feel free to change them as you like, try to experiment with different sizes!!\n",
    "parameters = {'hidden_layer_sizes': [(10,), (20,), (30,), (20,20,), (30,30,20) ]}\n",
    "\n",
    "mlp = MLPClassifier(max_iter=250, alpha=1e-4, solver='sgd',\n",
    "                    tol=1e-4, random_state=ID,\n",
    "                    learning_rate_init=.1)\n",
    "\n",
    "\n",
    "\n",
    "clf1 = GridSearchCV(estimator=mlp, param_grid=parameters, cv=5, return_train_score=True)\n",
    "clf1.fit(X_train,y_train)\n",
    "\n",
    "print ('RESULTS FOR NN\\n')\n",
    "\n",
    "\n",
    "print(\"Best parameters set found:\")\n",
    "print(clf1.best_params_)\n",
    "print(\"Score with best parameters:\")\n",
    "print(clf1.best_score_)\n",
    "best_hidden = clf1.best_params_\n",
    "print(\"\\n All scores on the grid:\")\n",
    "df_res1 = pd.DataFrame(clf1.cv_results_)\n",
    "df_res1[['param_hidden_layer_sizes','mean_test_score','mean_fit_time']]\n"
   ]
  },
  {
   "cell_type": "markdown",
   "metadata": {},
   "source": [
    "### TO DO 2\n",
    "\n",
    "Now try also different batch sizes, while keeping the best NN architecture you have found above. Remember that the batch size was previously set to the default value, i.e., min(200, n_samples). \n",
    "Recall that a batch size of 1 corresponds to baseline SGD, while using all the 480 training samples (there are 600 samples but in cross validation with 5 folders we use 1/5 of them for validation at each round) corresponds to standard GD and using a different mini-batch size lies in the middle between the two extreme cases."
   ]
  },
  {
   "cell_type": "code",
   "execution_count": 10,
   "metadata": {
    "ExecuteTime": {
     "end_time": "2020-12-27T17:05:26.178052Z",
     "start_time": "2020-12-27T17:03:12.128977Z"
    }
   },
   "outputs": [
    {
     "name": "stderr",
     "output_type": "stream",
     "text": [
      "/home/simone/.local/lib/python3.8/site-packages/sklearn/neural_network/_multilayer_perceptron.py:582: ConvergenceWarning: Stochastic Optimizer: Maximum iterations (250) reached and the optimization hasn't converged yet.\n",
      "  warnings.warn(\n"
     ]
    },
    {
     "name": "stdout",
     "output_type": "stream",
     "text": [
      "RESULTS FOR NN\n",
      "\n",
      "Best parameters set found:\n",
      "{'batch_size': 480}\n",
      "Score with best parameters:\n",
      "0.7783333333333333\n",
      "\n",
      " All scores on the grid:\n"
     ]
    },
    {
     "data": {
      "text/html": [
       "<div>\n",
       "<style scoped>\n",
       "    .dataframe tbody tr th:only-of-type {\n",
       "        vertical-align: middle;\n",
       "    }\n",
       "\n",
       "    .dataframe tbody tr th {\n",
       "        vertical-align: top;\n",
       "    }\n",
       "\n",
       "    .dataframe thead th {\n",
       "        text-align: right;\n",
       "    }\n",
       "</style>\n",
       "<table border=\"1\" class=\"dataframe\">\n",
       "  <thead>\n",
       "    <tr style=\"text-align: right;\">\n",
       "      <th></th>\n",
       "      <th>param_batch_size</th>\n",
       "      <th>mean_test_score</th>\n",
       "      <th>mean_score_time</th>\n",
       "    </tr>\n",
       "  </thead>\n",
       "  <tbody>\n",
       "    <tr>\n",
       "      <th>0</th>\n",
       "      <td>1</td>\n",
       "      <td>0.111667</td>\n",
       "      <td>0.001416</td>\n",
       "    </tr>\n",
       "    <tr>\n",
       "      <th>1</th>\n",
       "      <td>32</td>\n",
       "      <td>0.695000</td>\n",
       "      <td>0.001010</td>\n",
       "    </tr>\n",
       "    <tr>\n",
       "      <th>2</th>\n",
       "      <td>480</td>\n",
       "      <td>0.778333</td>\n",
       "      <td>0.003344</td>\n",
       "    </tr>\n",
       "  </tbody>\n",
       "</table>\n",
       "</div>"
      ],
      "text/plain": [
       "  param_batch_size  mean_test_score  mean_score_time\n",
       "0                1         0.111667         0.001416\n",
       "1               32         0.695000         0.001010\n",
       "2              480         0.778333         0.003344"
      ]
     },
     "execution_count": 10,
     "metadata": {},
     "output_type": "execute_result"
    }
   ],
   "source": [
    "# these are sample values corresponding to baseline SGD, a reasonable mini-batch size and standard GD\n",
    "# again feel free to change them as you like, try to experiment with different batch sizes!!\n",
    "parameters = {'batch_size': [1, 32, 480]}\n",
    "\n",
    "# need to specify that you would like to use the standard k-fold split otherwise sklearn create splits of different sizes\n",
    "kf = sklearn.model_selection.KFold(n_splits=5)\n",
    "mlp = MLPClassifier(max_iter=250,hidden_layer_sizes = best_hidden[\"hidden_layer_sizes\"], alpha=1e-4, solver='sgd',\n",
    "                    tol=1e-4, random_state=ID,\n",
    "                    learning_rate_init=.1)\n",
    "\n",
    "# recall to use cv=kf to use the k-fold subdivision seen in the lectures\n",
    "\n",
    "\n",
    "\n",
    "clf2 = GridSearchCV(estimator=mlp, param_grid=parameters, cv=5, return_train_score=True)\n",
    "clf2.fit(X_train,y_train)\n",
    "\n",
    "print ('RESULTS FOR NN\\n')\n",
    "\n",
    "\n",
    "print(\"Best parameters set found:\")\n",
    "print(clf2.best_params_)\n",
    "print(\"Score with best parameters:\")\n",
    "print(clf2.best_score_)\n",
    "\n",
    "bestbatch = clf2.best_params_\n",
    "print(\"\\n All scores on the grid:\")\n",
    "df_res = pd.DataFrame(clf2.cv_results_)\n",
    "df_res[['param_batch_size','mean_test_score','mean_score_time']]\n",
    "\n"
   ]
  },
  {
   "cell_type": "markdown",
   "metadata": {},
   "source": [
    "### QUESTION 1\n",
    "\n",
    "What do you observe for different architectures and batch sizes? How do the number of layers and their sizes affect the performances? What do you observe for different batch sizes, in particular what happens to the training convergence for different batch sizes (notice that the algorithm could not converge for some batch sizes)?"
   ]
  },
  {
   "cell_type": "markdown",
   "metadata": {},
   "source": [
    "We observe that the best architecture is the `(20,)`, if we increase the dimensionality the error increase, meanwhile if we increase the batch size the error decrease. The best batch size is `480`, because it corrisponds to the standard GD (which is more accurate than the SGD). The computational time decreases if the batch size. With `batch_size=480` the algorithm sometimes doesn't converge because of the number of iterations is too small. "
   ]
  },
  {
   "cell_type": "markdown",
   "metadata": {},
   "source": [
    "### TODO 3:\n",
    "\n",
    "Plot the train and test accuracies as a function of the number of learnable parameters in your neural network. Print also the computation time for the various configurations you try (the code for getting the computation time is already provided). You can use 300 iterations (if you get a warning on convergence not reached it is not an issue for this lab)"
   ]
  },
  {
   "cell_type": "code",
   "execution_count": 11,
   "metadata": {
    "ExecuteTime": {
     "end_time": "2020-12-27T17:05:33.671635Z",
     "start_time": "2020-12-27T17:05:26.180632Z"
    }
   },
   "outputs": [
    {
     "name": "stdout",
     "output_type": "stream",
     "text": [
      "Training MLP of size (10,) ...\n",
      "Done, training time: 1.39 sec\n",
      "\n",
      "Training MLP of size (20,) ...\n",
      "Done, training time: 1.87 sec\n",
      "\n",
      "Training MLP of size (30,) ...\n",
      "Done, training time: 2.01 sec\n",
      "\n",
      "Training MLP of size (30, 20) ...\n",
      "Done, training time: 0.59 sec\n",
      "\n",
      "Training MLP of size (30, 30, 20) ...\n",
      "Done, training time: 1.28 sec\n",
      "\n"
     ]
    },
    {
     "data": {
      "image/png": "[encoded data removed]",
      "text/plain": [
       "<Figure size 1080x360 with 2 Axes>"
      ]
     },
     "metadata": {
      "needs_background": "light"
     },
     "output_type": "display_data"
    }
   ],
   "source": [
    "import time\n",
    "from functools import reduce\n",
    "\n",
    "# Function to compute the number of learnable parameters of a mlp given the size of its hidden layers\n",
    "def param_count(hl_size):\n",
    "    tot = 0\n",
    "    input_size, output_size = X_train.shape[1], len(labels)\n",
    "    tot += (input_size+1)*hl_size[0]\n",
    "    for i in range(1,len(hl_size)):\n",
    "        tot += (hl_size[i-1]+1)*hl_size[i]\n",
    "    tot += (hl_size[-1]+1)*output_size\n",
    "    return tot\n",
    "\n",
    "hl_sizes = [(10,), (20,), (30,), (30,20,), (30,30,20)]\n",
    "hl_labels = [param_count(t) for t in hl_sizes]\n",
    "\n",
    "ti = time.time()\n",
    "train_acc_list, test_acc_list = [], []\n",
    "for hl_size in hl_sizes:\n",
    "    print('Training MLP of size {} ...'.format(hl_size))\n",
    "    mlp = MLPClassifier(hidden_layer_sizes=hl_size,max_iter=300, alpha=1e-4, solver='sgd',\n",
    "                    tol=1e-4, random_state=ID,\n",
    "                    learning_rate_init=.1)\n",
    "\n",
    "    \n",
    "    mlp.fit(X_train,y_train)\n",
    "    \n",
    "    train_acc_list.append(mlp.score(X_train, y_train))\n",
    "    test_acc_list.append(mlp.score(X_test, y_test))\n",
    "    print('Done, training time: {:.2f} sec\\n'.format(time.time()-ti))\n",
    "    ti = time.time()\n",
    "\n",
    "fig, ax = plt.subplots(1,2, figsize=(15,5))\n",
    "\n",
    "\n",
    "ax[0].plot(train_acc_list)\n",
    "ax[0].set_xlabel('Number of learnable params')\n",
    "ax[0].set_title('Train accuracy')\n",
    "ax[0].set_xticks(np.arange(0,len(hl_labels)))\n",
    "ax[0].set_xticklabels(hl_labels)\n",
    "ax[0].grid(True)\n",
    "\n",
    "ax[1].plot(test_acc_list)\n",
    "ax[1].set_xlabel('Number of learnable params')\n",
    "ax[1].set_title('Test accuracy')\n",
    "ax[1].set_xticks(np.arange(0,len(hl_labels)))\n",
    "ax[1].set_xticklabels(hl_labels)\n",
    "ax[1].grid(True)\n"
   ]
  },
  {
   "cell_type": "markdown",
   "metadata": {},
   "source": [
    "## Question 2:\n",
    "\n",
    "Comment about the training and test accuracies referring to the discussion on underfitting and overfitting we did in the course"
   ]
  },
  {
   "cell_type": "markdown",
   "metadata": {},
   "source": [
    "The first three architecture overfit the training data (The train accuracy is 1), the fourth tends to underfit in the ultimate architecture the train accuracy begin to raise up, but the rest accuracy decrease, probably the best architecture is between the last and the fourth."
   ]
  },
  {
   "cell_type": "markdown",
   "metadata": {},
   "source": [
    "### TO DO 4\n",
    "\n",
    "Now try also to use different learning rates, while keeping the best NN architecture and batch size you have found above. Plot the learning curves (i.e., the variation of the loss over the steps, you can get it from the loss_curve_ object of sklearn) for the different values of the learning rate. Try to run each training for 600 iterations. "
   ]
  },
  {
   "cell_type": "code",
   "execution_count": 12,
   "metadata": {
    "ExecuteTime": {
     "end_time": "2020-12-27T17:05:46.815899Z",
     "start_time": "2020-12-27T17:05:33.673855Z"
    }
   },
   "outputs": [
    {
     "name": "stderr",
     "output_type": "stream",
     "text": [
      "/home/simone/.local/lib/python3.8/site-packages/sklearn/neural_network/_multilayer_perceptron.py:582: ConvergenceWarning: Stochastic Optimizer: Maximum iterations (600) reached and the optimization hasn't converged yet.\n",
      "  warnings.warn(\n",
      "/home/simone/.local/lib/python3.8/site-packages/sklearn/neural_network/_multilayer_perceptron.py:582: ConvergenceWarning: Stochastic Optimizer: Maximum iterations (600) reached and the optimization hasn't converged yet.\n",
      "  warnings.warn(\n"
     ]
    }
   ],
   "source": [
    "import matplotlib.pyplot as plt\n",
    "import operator\n",
    " \n",
    "#lr_list = [0.001, 0.01, 0.1]\n",
    "lr_list = [10**exp for exp in range(-3,0)]\n",
    "loss=[]\n",
    "\n",
    "for lr in lr_list:\n",
    "\n",
    "    mlp_best = MLPClassifier(max_iter=600, alpha=1e-4, solver='sgd',\n",
    "                    tol=1e-4, random_state=ID, hidden_layer_sizes=best_hidden[\"hidden_layer_sizes\"], batch_size=bestbatch['batch_size'],\n",
    "                    learning_rate_init=lr)\n",
    "    mlp_best.fit(X_train,y_train)\n",
    "    loss.append(mlp_best.loss_curve_)\n",
    "\n"
   ]
  },
  {
   "cell_type": "code",
   "execution_count": 13,
   "metadata": {
    "ExecuteTime": {
     "end_time": "2020-12-27T17:05:47.215822Z",
     "start_time": "2020-12-27T17:05:46.818078Z"
    }
   },
   "outputs": [
    {
     "data": {
      "image/png": "[encoded data removed]",
      "text/plain": [
       "<Figure size 1152x720 with 3 Axes>"
      ]
     },
     "metadata": {
      "needs_background": "light"
     },
     "output_type": "display_data"
    }
   ],
   "source": [
    "\n",
    "fig, ax = plt.subplots(3,1,figsize=(16,10))\n",
    "\n",
    "ax[0].plot(loss[0])\n",
    "ax[0].set_title('Learning rate 0.001 ')\n",
    "ax[0].set_ylabel('Loss curve')\n",
    "ax[0].grid(True)\n",
    "\n",
    "ax[1].plot(loss[1])\n",
    "ax[1].set_title('Learning rate 0.01')\n",
    "ax[1].set_ylabel('Loss curve')\n",
    "ax[1].grid(True)\n",
    "\n",
    "ax[2].plot(loss[2])\n",
    "ax[2].set_title('Learning rate 0.1 ')\n",
    "ax[2].set_ylabel('Loss curve')\n",
    "ax[2].grid(True)\n",
    "\n",
    "plt.show()"
   ]
  },
  {
   "cell_type": "markdown",
   "metadata": {},
   "source": [
    "### QUESTION 3\n",
    "\n",
    "Comment about the learning curves (i.e. the variation of the loss over the steps). How does the curve changes for different learning rates in terms of stability and speed of convergence ?"
   ]
  },
  {
   "cell_type": "markdown",
   "metadata": {},
   "source": [
    "The first two don't converge, the third converge about the 250th step, probably the first two learning rate are too small and in 600 steps the algorithm can't converge.\n",
    "\n",
    "The first two are pretty similar and stable. The third is noisy in the first part(0-100) and stabilizes in the second (100-250).\n",
    "\n",
    "In the first curve the loss doesn't decay in 600 steps (it remains about 0.5), meanwhile in the second it decays in 300 steps, in the third it decays rapidly in 50 steps, but it is really noisy."
   ]
  },
  {
   "cell_type": "markdown",
   "metadata": {},
   "source": [
    "### TO DO 5\n",
    "\n",
    "Now get training and test error for a NN with best parameters (architecture, batch size and learning rate) from above. Plot the learning curve also for this case."
   ]
  },
  {
   "cell_type": "code",
   "execution_count": 14,
   "metadata": {
    "ExecuteTime": {
     "end_time": "2020-12-27T17:05:49.911532Z",
     "start_time": "2020-12-27T17:05:47.217060Z"
    },
    "scrolled": true
   },
   "outputs": [
    {
     "name": "stdout",
     "output_type": "stream",
     "text": [
      "\n",
      "RESULTS FOR BEST NN\n",
      "\n",
      "Best NN training error: 0.000000\n",
      "Best NN test error: 0.212750\n"
     ]
    }
   ],
   "source": [
    "#get training and test error for the best NN model from CV\n",
    "mlprbest = MLPClassifier(hidden_layer_sizes=best_hidden['hidden_layer_sizes'],max_iter=600, alpha=1e-4, solver='sgd',\n",
    "                    tol=1e-4, random_state=ID,learning_rate_init=0.1,batch_size=bestbatch['batch_size'])\n",
    "mlprbest.fit(X_train,y_train)\n",
    "print ('\\nRESULTS FOR BEST NN\\n')\n",
    "training_error = 1 - mlprbest.score(X_train,y_train)\n",
    "test_error     = 1 - mlprbest.score(X_test,y_test)\n",
    "print (\"Best NN training error: %f\" % training_error)\n",
    "print (\"Best NN test error: %f\" % test_error)\n"
   ]
  },
  {
   "cell_type": "code",
   "execution_count": 15,
   "metadata": {
    "ExecuteTime": {
     "end_time": "2020-12-27T17:05:50.176510Z",
     "start_time": "2020-12-27T17:05:49.913943Z"
    }
   },
   "outputs": [
    {
     "data": {
      "image/png": "[encoded data removed]",
      "text/plain": [
       "<Figure size 1152x720 with 1 Axes>"
      ]
     },
     "metadata": {
      "needs_background": "light"
     },
     "output_type": "display_data"
    }
   ],
   "source": [
    "plt.figure(figsize=(16,10))\n",
    "plt.plot(mlprbest.loss_curve_)\n",
    "plt.title(\"Learning curve with best parameters\",fontsize=16)\n",
    "plt.grid(True)\n",
    "plt.xlabel('Steps',fontsize=16)\n",
    "plt.ylabel('Loss curve',fontsize=16)\n",
    "plt.show()"
   ]
  },
  {
   "cell_type": "markdown",
   "metadata": {},
   "source": [
    "## More data \n",
    "Now let's do the same but using 4000 (or less if it takes too long on your machine) data points for training. Use the same NN architecture as before, but you can try more if you like and have a powerful computer!!"
   ]
  },
  {
   "cell_type": "code",
   "execution_count": 16,
   "metadata": {
    "ExecuteTime": {
     "end_time": "2020-12-27T17:05:50.347206Z",
     "start_time": "2020-12-27T17:05:50.179558Z"
    }
   },
   "outputs": [
    {
     "name": "stdout",
     "output_type": "stream",
     "text": [
      "Labels in training dataset:  [0 1 2 3 4 5 6 7 8 9]\n",
      "Frequencies in training dataset:  [390 396 397 389 414 380 402 413 410 409]\n"
     ]
    }
   ],
   "source": [
    "X = X[permutation]\n",
    "y = y[permutation]\n",
    "\n",
    "m_training = 4000\n",
    "\n",
    "X_train, X_test = X[:m_training], X[m_training:]\n",
    "y_train, y_test = y[:m_training], y[m_training:]\n",
    "\n",
    "labels, freqs = np.unique(y_train, return_counts=True)\n",
    "print(\"Labels in training dataset: \", labels)\n",
    "print(\"Frequencies in training dataset: \", freqs)"
   ]
  },
  {
   "cell_type": "markdown",
   "metadata": {},
   "source": [
    "### TO DO 6\n",
    "\n",
    "Now train the NNs with the added data points using the optimum parameters found above. Eventually, feel free to try different architectures if you like. We suggest that you use 'verbose=True' so have an idea of how long it takes to run 1 iteration (eventually reduce also the number of iterations to 50)."
   ]
  },
  {
   "cell_type": "code",
   "execution_count": 17,
   "metadata": {
    "ExecuteTime": {
     "end_time": "2020-12-27T17:05:59.165197Z",
     "start_time": "2020-12-27T17:05:50.350431Z"
    }
   },
   "outputs": [
    {
     "name": "stdout",
     "output_type": "stream",
     "text": [
      "Iteration 1, loss = 1.92165745\n",
      "Iteration 2, loss = 1.19623413\n",
      "Iteration 3, loss = 0.73890680\n",
      "Iteration 4, loss = 0.65498714\n",
      "Iteration 5, loss = 0.62372419\n",
      "Iteration 6, loss = 0.55553812\n",
      "Iteration 7, loss = 0.52461625\n",
      "Iteration 8, loss = 0.51817328\n",
      "Iteration 9, loss = 0.48002131\n",
      "Iteration 10, loss = 0.45786393\n",
      "Iteration 11, loss = 0.48117146\n",
      "Iteration 12, loss = 0.43277354\n",
      "Iteration 13, loss = 0.41220781\n",
      "Iteration 14, loss = 0.39666348\n",
      "Iteration 15, loss = 0.38370175\n",
      "Iteration 16, loss = 0.41539862\n",
      "Iteration 17, loss = 0.37747900\n",
      "Iteration 18, loss = 0.39237158\n",
      "Iteration 19, loss = 0.35881126\n",
      "Iteration 20, loss = 0.39731429\n",
      "Iteration 21, loss = 0.38437647\n",
      "Iteration 22, loss = 0.35420788\n",
      "Iteration 23, loss = 0.35852162\n",
      "Iteration 24, loss = 0.33376096\n",
      "Iteration 25, loss = 0.34506249\n",
      "Iteration 26, loss = 0.33534569\n",
      "Iteration 27, loss = 0.31139318\n",
      "Iteration 28, loss = 0.29555254\n",
      "Iteration 29, loss = 0.33156393\n",
      "Iteration 30, loss = 0.29185290\n",
      "Iteration 31, loss = 0.29194166\n",
      "Iteration 32, loss = 0.27431851\n",
      "Iteration 33, loss = 0.30021110\n",
      "Iteration 34, loss = 0.33240254\n",
      "Iteration 35, loss = 0.27315015\n",
      "Iteration 36, loss = 0.26294139\n",
      "Iteration 37, loss = 0.28019360\n",
      "Iteration 38, loss = 0.30887189\n",
      "Iteration 39, loss = 0.29823302\n",
      "Iteration 40, loss = 0.24614707\n",
      "Iteration 41, loss = 0.24651500\n",
      "Iteration 42, loss = 0.26228869\n",
      "Iteration 43, loss = 0.23449334\n",
      "Iteration 44, loss = 0.26285426\n",
      "Iteration 45, loss = 0.27039156\n",
      "Iteration 46, loss = 0.34006469\n",
      "Iteration 47, loss = 0.23498603\n",
      "Iteration 48, loss = 0.22488399\n",
      "Iteration 49, loss = 0.23864648\n",
      "Iteration 50, loss = 0.22335441\n",
      "Iteration 51, loss = 0.22372707\n",
      "Iteration 52, loss = 0.24758817\n",
      "Iteration 53, loss = 0.23463241\n",
      "Iteration 54, loss = 0.19766040\n",
      "Iteration 55, loss = 0.21463530\n",
      "Iteration 56, loss = 0.25544050\n",
      "Iteration 57, loss = 0.21855906\n",
      "Iteration 58, loss = 0.23072832\n",
      "Iteration 59, loss = 0.18024690\n",
      "Iteration 60, loss = 0.20789233\n",
      "Iteration 61, loss = 0.19349021\n",
      "Iteration 62, loss = 0.20269021\n",
      "Iteration 63, loss = 0.21777967\n",
      "Iteration 64, loss = 0.18901351\n",
      "Iteration 65, loss = 0.18014715\n",
      "Iteration 66, loss = 0.18878399\n",
      "Iteration 67, loss = 0.19574538\n",
      "Iteration 68, loss = 0.17344608\n",
      "Iteration 69, loss = 0.20116354\n",
      "Iteration 70, loss = 0.19217807\n",
      "Iteration 71, loss = 0.19399142\n",
      "Iteration 72, loss = 0.23051264\n",
      "Iteration 73, loss = 0.17115886\n",
      "Iteration 74, loss = 0.15632469\n",
      "Iteration 75, loss = 0.15528456\n",
      "Iteration 76, loss = 0.15404361\n",
      "Iteration 77, loss = 0.23061907\n",
      "Iteration 78, loss = 0.15448529\n",
      "Iteration 79, loss = 0.18275060\n",
      "Iteration 80, loss = 0.16515677\n",
      "Iteration 81, loss = 0.14142546\n",
      "Iteration 82, loss = 0.21209211\n",
      "Iteration 83, loss = 0.18061378\n",
      "Iteration 84, loss = 0.15892703\n",
      "Iteration 85, loss = 0.13668271\n",
      "Iteration 86, loss = 0.18004720\n",
      "Iteration 87, loss = 0.19599616\n",
      "Iteration 88, loss = 0.16647282\n",
      "Iteration 89, loss = 0.21054312\n",
      "Iteration 90, loss = 0.15753747\n",
      "Iteration 91, loss = 0.15247302\n",
      "Iteration 92, loss = 0.12682917\n",
      "Iteration 93, loss = 0.15640339\n",
      "Iteration 94, loss = 0.11867054\n",
      "Iteration 95, loss = 0.12965865\n",
      "Iteration 96, loss = 0.23256995\n",
      "Iteration 97, loss = 0.12812617\n",
      "Iteration 98, loss = 0.13239494\n",
      "Iteration 99, loss = 0.11912068\n",
      "Iteration 100, loss = 0.12394990\n",
      "Iteration 101, loss = 0.11676072\n",
      "Iteration 102, loss = 0.12604323\n",
      "Iteration 103, loss = 0.13242259\n",
      "Iteration 104, loss = 0.12328831\n",
      "Iteration 105, loss = 0.25823260\n",
      "Iteration 106, loss = 0.14291888\n",
      "Iteration 107, loss = 0.11154094\n",
      "Iteration 108, loss = 0.09840491\n",
      "Iteration 109, loss = 0.14522502\n",
      "Iteration 110, loss = 0.13569207\n",
      "Iteration 111, loss = 0.10367982\n",
      "Iteration 112, loss = 0.15888022\n",
      "Iteration 113, loss = 0.11885306\n",
      "Iteration 114, loss = 0.09771519\n",
      "Iteration 115, loss = 0.09933323\n",
      "Iteration 116, loss = 0.11973263\n",
      "Iteration 117, loss = 0.11140846\n",
      "Iteration 118, loss = 0.10164616\n",
      "Iteration 119, loss = 0.09178715\n",
      "Iteration 120, loss = 0.09162852\n",
      "Iteration 121, loss = 0.10024893\n",
      "Iteration 122, loss = 0.09221715\n",
      "Iteration 123, loss = 0.12847444\n",
      "Iteration 124, loss = 0.07824821\n",
      "Iteration 125, loss = 0.09443657\n",
      "Iteration 126, loss = 0.08817757\n",
      "Iteration 127, loss = 0.08352836\n",
      "Iteration 128, loss = 0.08355056\n",
      "Iteration 129, loss = 0.07605968\n",
      "Iteration 130, loss = 0.11453006\n",
      "Iteration 131, loss = 0.16263971\n",
      "Iteration 132, loss = 0.08087395\n",
      "Iteration 133, loss = 0.07892823\n",
      "Iteration 134, loss = 0.08908904\n",
      "Iteration 135, loss = 0.07538391\n",
      "Iteration 136, loss = 0.08271682\n",
      "Iteration 137, loss = 0.08199809\n",
      "Iteration 138, loss = 0.06954349\n",
      "Iteration 139, loss = 0.08943007\n",
      "Iteration 140, loss = 0.10148421\n",
      "Iteration 141, loss = 0.08153917\n",
      "Iteration 142, loss = 0.11783163\n",
      "Iteration 143, loss = 0.06972565\n",
      "Iteration 144, loss = 0.06063397\n",
      "Iteration 145, loss = 0.19966450\n",
      "Iteration 146, loss = 1.12056407\n",
      "Iteration 147, loss = 1.31188448\n",
      "Iteration 148, loss = 0.66382465\n",
      "Iteration 149, loss = 0.54840624\n",
      "Iteration 150, loss = 0.44678577\n",
      "Iteration 151, loss = 0.39393745\n",
      "Iteration 152, loss = 0.37827472\n",
      "Iteration 153, loss = 0.35247357\n",
      "Iteration 154, loss = 0.31638513\n",
      "Iteration 155, loss = 0.32900708\n",
      "Training loss did not improve more than tol=0.000100 for 10 consecutive epochs. Stopping.\n",
      "\n",
      "RESULTS FOR BEST NN\n",
      "\n",
      "Best NN training error: 0.137500\n",
      "Best NN test error: 0.234143\n"
     ]
    }
   ],
   "source": [
    "# use best architecture and params from before\n",
    "\n",
    "\n",
    "mlprbestn = MLPClassifier(hidden_layer_sizes=best_hidden['hidden_layer_sizes'],max_iter=600, alpha=1e-4, solver='sgd',\n",
    "                    tol=1e-4, random_state=ID,learning_rate_init=0.1,batch_size=bestbatch['batch_size'],verbose=True)\n",
    "mlprbestn.fit(X_train,y_train)\n",
    "print ('\\nRESULTS FOR BEST NN\\n')\n",
    "training_error = 1 - mlprbestn.score(X_train,y_train)\n",
    "test_error     = 1 - mlprbestn.score(X_test,y_test)\n",
    "print (\"Best NN training error: %f\" % training_error)\n",
    "print (\"Best NN test error: %f\" % test_error)\n"
   ]
  },
  {
   "cell_type": "markdown",
   "metadata": {},
   "source": [
    "## QUESTION 4\n",
    "Compare the train and test error you got with a large number of samples with the best one you obtained with only 600 data points. Comment about the results you obtained."
   ]
  },
  {
   "cell_type": "markdown",
   "metadata": {},
   "source": [
    "With 600 data points the neural network overfit my data, so the training error is zero and the test error is $0.212750$. In the large number samples we have a training error different from zero and a test error lesser than the previous one.\n",
    "\n",
    "Probably the best architecture with the 4000 data points is different from the 600 samples one."
   ]
  },
  {
   "cell_type": "markdown",
   "metadata": {},
   "source": [
    "### TO DO 7\n",
    "\n",
    "Plot an example that was missclassified by NN with m=600 training data points and it is now instead correctly classified by NN with m=4000 training data points."
   ]
  },
  {
   "cell_type": "code",
   "execution_count": 18,
   "metadata": {
    "ExecuteTime": {
     "end_time": "2020-12-27T17:05:59.775040Z",
     "start_time": "2020-12-27T17:05:59.170120Z"
    }
   },
   "outputs": [
    {
     "name": "stdout",
     "output_type": "stream",
     "text": [
      "INPUT:\n"
     ]
    },
    {
     "data": {
      "image/png": "[encoded data removed]",
      "text/plain": [
       "<Figure size 432x288 with 1 Axes>"
      ]
     },
     "metadata": {
      "needs_background": "light"
     },
     "output_type": "display_data"
    },
    {
     "name": "stdout",
     "output_type": "stream",
     "text": [
      "LABEL: 8\n"
     ]
    }
   ],
   "source": [
    "NN_prediction = mlprbest.predict(X_test)\n",
    "large_NN_prediction = mlprbestn.predict(X_test)\n",
    "\n",
    "misclass=[]\n",
    "\n",
    "for i in range(len(y_train)):\n",
    "    if (NN_prediction[i] != y_test[i]) and (large_NN_prediction[i] == y_test[i]):\n",
    "        misclass.append(i)\n",
    "\n",
    "plot_input(X_test,y_test,np.random.choice(misclass, 1))"
   ]
  },
  {
   "cell_type": "markdown",
   "metadata": {},
   "source": [
    "### TO DO 8\n",
    "\n",
    "Let's plot the weigths of the multi-layer perceptron classifier, for the best NN we get with 600 data points and with 4000 data points. The code is already provided, just fix variable names (e.g., replace mlp , mlp_large with your estimators) in order to have it working with your implementation\n",
    "\n"
   ]
  },
  {
   "cell_type": "code",
   "execution_count": 19,
   "metadata": {
    "ExecuteTime": {
     "end_time": "2020-12-27T17:06:00.705414Z",
     "start_time": "2020-12-27T17:05:59.777095Z"
    }
   },
   "outputs": [
    {
     "name": "stdout",
     "output_type": "stream",
     "text": [
      "Weights with 600 data points:\n"
     ]
    },
    {
     "data": {
      "image/png": "[encoded data removed]",
      "text/plain": [
       "<Figure size 432x288 with 16 Axes>"
      ]
     },
     "metadata": {},
     "output_type": "display_data"
    },
    {
     "name": "stdout",
     "output_type": "stream",
     "text": [
      "Weights with 4000 data points:\n"
     ]
    },
    {
     "data": {
      "image/png": "[encoded data removed]",
      "text/plain": [
       "<Figure size 432x288 with 16 Axes>"
      ]
     },
     "metadata": {},
     "output_type": "display_data"
    }
   ],
   "source": [
    "print(\"Weights with 600 data points:\")\n",
    "\n",
    "fig, axes = plt.subplots(4, 4)\n",
    "vmin, vmax = mlprbest.coefs_[0].min(), mlprbest.coefs_[0].max()\n",
    "for coef, ax in zip(mlprbest.coefs_[0].T, axes.ravel()):\n",
    "    ax.matshow(coef.reshape(28, 28), cmap=plt.cm.gray, vmin=.5 * vmin,\n",
    "               vmax=.5 * vmax)\n",
    "    ax.set_xticks(())\n",
    "    ax.set_yticks(())\n",
    "\n",
    "plt.show()\n",
    "\n",
    "print(\"Weights with 4000 data points:\")\n",
    "\n",
    "fig, axes = plt.subplots(4, 4)\n",
    "vmin, vmax = mlprbestn.coefs_[0].min(), mlprbestn.coefs_[0].max()\n",
    "for coef, ax in zip(mlprbestn.coefs_[0].T, axes.ravel()):\n",
    "    ax.matshow(coef.reshape(28, 28), cmap=plt.cm.gray, vmin=.5 * vmin,\n",
    "               vmax=.5 * vmax)\n",
    "    ax.set_xticks(())\n",
    "    ax.set_yticks(())\n",
    "plt.show()"
   ]
  },
  {
   "cell_type": "markdown",
   "metadata": {},
   "source": [
    "## QUESTION 5\n",
    "\n",
    "Describe what do you observe by looking at the weights."
   ]
  },
  {
   "cell_type": "markdown",
   "metadata": {},
   "source": [
    "We observe that the weights seems like the input images. The $4000$ samples' weights seem to be more noisy, in theory they have to be more clear, but in this case i think my randomID is unlucky."
   ]
  },
  {
   "cell_type": "markdown",
   "metadata": {},
   "source": [
    "### TO DO 9\n",
    "\n",
    "Take the best SVM model and its parameters, you found in the last notebook. Fit it on a few data points and compute its training and test scores. Then fit also a logistic regression model with C=1. "
   ]
  },
  {
   "cell_type": "code",
   "execution_count": 20,
   "metadata": {
    "ExecuteTime": {
     "end_time": "2020-12-27T17:06:32.352758Z",
     "start_time": "2020-12-27T17:06:00.706695Z"
    }
   },
   "outputs": [
    {
     "name": "stdout",
     "output_type": "stream",
     "text": [
      "RESULTS FOR SVM\n",
      "Training score SVM:\n",
      "0.9956\n",
      "Test score SVM:\n",
      "0.848\n"
     ]
    }
   ],
   "source": [
    "m_training = 5000\n",
    "\n",
    "X_train, X_test = X[:m_training], X[m_training:2*m_training]\n",
    "y_train, y_test = y[:m_training], y[m_training:2*m_training]\n",
    "\n",
    "# use best parameters found in the SVM notebook, create SVM and perform fitting\n",
    "\n",
    "\n",
    "\n",
    "SVM = SVC(kernel = 'rbf', C = 50, gamma = 0.005)\n",
    "SVM.fit(X_train, y_train)\n",
    "\n",
    "print ('RESULTS FOR SVM')\n",
    "\n",
    "\n",
    "\n",
    "print(\"Training score SVM:\")\n",
    "print(SVM.score(X_train,y_train))\n",
    "\n",
    "\n",
    "print(\"Test score SVM:\")\n",
    "print(SVM.score(X_test,y_test))"
   ]
  },
  {
   "cell_type": "code",
   "execution_count": 21,
   "metadata": {
    "ExecuteTime": {
     "end_time": "2020-12-27T17:06:55.909162Z",
     "start_time": "2020-12-27T17:06:32.354033Z"
    }
   },
   "outputs": [
    {
     "name": "stdout",
     "output_type": "stream",
     "text": [
      "\n",
      "RESULTS FOR LOGISTIC REGRESSION WITH REGULARIZATION\n",
      "Training error (reg): 0.042400\n",
      "Test error (reg): 0.176600\n"
     ]
    }
   ],
   "source": [
    "from sklearn import linear_model\n",
    "\n",
    "ln = linear_model.LogisticRegression(C=1.,max_iter=10000)\n",
    "\n",
    "ln.fit(X_train,y_train)\n",
    "\n",
    "training_error = 1-ln.score(X_train,y_train)\n",
    "test_error = 1- ln.score(X_test,y_test)\n",
    "\n",
    "print ('\\nRESULTS FOR LOGISTIC REGRESSION WITH REGULARIZATION')\n",
    "\n",
    "\n",
    "print (\"Training error (reg): %f\" % training_error)\n",
    "print (\"Test error (reg): %f\" % test_error)"
   ]
  },
  {
   "cell_type": "markdown",
   "metadata": {
    "collapsed": true
   },
   "source": [
    "## QUESTION 6\n",
    "Compare the results of Logistic Regression, SVM and NN. Which one achieve the best results? "
   ]
  },
  {
   "cell_type": "markdown",
   "metadata": {},
   "source": [
    "The SVM's result is the best of the three, the Logistic is the second and the last is the Neural Network."
   ]
  }
 ],
 "metadata": {
  "kernelspec": {
   "display_name": "Python 3",
   "language": "python",
   "name": "python3"
  },
  "language_info": {
   "codemirror_mode": {
    "name": "ipython",
    "version": 3
   },
   "file_extension": ".py",
   "mimetype": "text/x-python",
   "name": "python",
   "nbconvert_exporter": "python",
   "pygments_lexer": "ipython3",
   "version": "3.8.5"
  },
  "toc": {
   "base_numbering": 1,
   "nav_menu": {},
   "number_sections": true,
   "sideBar": true,
   "skip_h1_title": false,
   "title_cell": "Table of Contents",
   "title_sidebar": "Contents",
   "toc_cell": false,
   "toc_position": {},
   "toc_section_display": true,
   "toc_window_display": false
  },
  "varInspector": {
   "cols": {
    "lenName": 16,
    "lenType": 16,
    "lenVar": 40
   },
   "kernels_config": {
    "python": {
     "delete_cmd_postfix": "",
     "delete_cmd_prefix": "del ",
     "library": "var_list.py",
     "varRefreshCmd": "print(var_dic_list())"
    },
    "r": {
     "delete_cmd_postfix": ") ",
     "delete_cmd_prefix": "rm(",
     "library": "var_list.r",
     "varRefreshCmd": "cat(var_dic_list()) "
    }
   },
   "types_to_exclude": [
    "module",
    "function",
    "builtin_function_or_method",
    "instance",
    "_Feature"
   ],
   "window_display": false
  }
 },
 "nbformat": 4,
 "nbformat_minor": 2
}
